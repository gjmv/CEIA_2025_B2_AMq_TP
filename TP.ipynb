{
 "cells": [
  {
   "cell_type": "code",
   "execution_count": 1,
   "id": "a281569a",
   "metadata": {},
   "outputs": [],
   "source": [
    "import pandas as pd"
   ]
  },
  {
   "cell_type": "code",
   "execution_count": 2,
   "id": "a7021ac9",
   "metadata": {},
   "outputs": [
    {
     "name": "stdout",
     "output_type": "stream",
     "text": [
      "<class 'pandas.core.frame.DataFrame'>\n",
      "RangeIndex: 262950 entries, 0 to 262949\n",
      "Data columns (total 22 columns):\n",
      " #   Column                Non-Null Count   Dtype  \n",
      "---  ------                --------------   -----  \n",
      " 0   ID                    262950 non-null  int64  \n",
      " 1   Case Number           262950 non-null  object \n",
      " 2   Date                  262950 non-null  object \n",
      " 3   Block                 262950 non-null  object \n",
      " 4   IUCR                  262950 non-null  object \n",
      " 5   Primary Type          262950 non-null  object \n",
      " 6   Description           262950 non-null  object \n",
      " 7   Location Description  261512 non-null  object \n",
      " 8   Arrest                262950 non-null  bool   \n",
      " 9   Domestic              262950 non-null  bool   \n",
      " 10  Beat                  262950 non-null  int64  \n",
      " 11  District              262950 non-null  int64  \n",
      " 12  Ward                  262947 non-null  float64\n",
      " 13  Community Area        262950 non-null  int64  \n",
      " 14  FBI Code              262950 non-null  object \n",
      " 15  X Coordinate          261246 non-null  float64\n",
      " 16  Y Coordinate          261246 non-null  float64\n",
      " 17  Year                  262950 non-null  int64  \n",
      " 18  Updated On            262950 non-null  object \n",
      " 19  Latitude              261246 non-null  float64\n",
      " 20  Longitude             261246 non-null  float64\n",
      " 21  Location              261246 non-null  object \n",
      "dtypes: bool(2), float64(5), int64(5), object(10)\n",
      "memory usage: 40.6+ MB\n"
     ]
    }
   ],
   "source": [
    "df_csv = pd.read_csv(\"dataset/Crimes_-_2023_20250508.zip\")\n",
    "\n",
    "df_csv.info()"
   ]
  },
  {
   "cell_type": "code",
   "execution_count": 3,
   "id": "7381929c",
   "metadata": {},
   "outputs": [
    {
     "name": "stdout",
     "output_type": "stream",
     "text": [
      "[2023]\n"
     ]
    }
   ],
   "source": [
    "print(df_csv[\"Year\"].unique())"
   ]
  }
 ],
 "metadata": {
  "kernelspec": {
   "display_name": "B2_AMq",
   "language": "python",
   "name": "python3"
  },
  "language_info": {
   "codemirror_mode": {
    "name": "ipython",
    "version": 3
   },
   "file_extension": ".py",
   "mimetype": "text/x-python",
   "name": "python",
   "nbconvert_exporter": "python",
   "pygments_lexer": "ipython3",
   "version": "3.11.11"
  }
 },
 "nbformat": 4,
 "nbformat_minor": 5
}
